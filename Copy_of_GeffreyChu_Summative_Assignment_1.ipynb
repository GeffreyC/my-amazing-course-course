{
  "nbformat": 4,
  "nbformat_minor": 0,
  "metadata": {
    "colab": {
      "name": "Copy of GeffreyChu Summative Assignment 1.ipynb",
      "provenance": [],
      "collapsed_sections": [],
      "authorship_tag": "ABX9TyNZTAJvwe1zyAHSkje9zarI",
      "include_colab_link": true
    },
    "kernelspec": {
      "name": "python3",
      "display_name": "Python 3"
    }
  },
  "cells": [
    {
      "cell_type": "markdown",
      "metadata": {
        "id": "view-in-github",
        "colab_type": "text"
      },
      "source": [
        "<a href=\"https://colab.research.google.com/github/GeffreyC/my-amazing-course-course/blob/master/Copy_of_GeffreyChu_Summative_Assignment_1.ipynb\" target=\"_parent\"><img src=\"https://colab.research.google.com/assets/colab-badge.svg\" alt=\"Open In Colab\"/></a>"
      ]
    },
    {
      "cell_type": "markdown",
      "metadata": {
        "id": "cct6GxJRpbt6",
        "colab_type": "text"
      },
      "source": [
        "Question-1: Write a program that asks the user to enter the lengths of the three sides of a triangle. Use the\n",
        "logical operators to determine and print whether the triangle is equilateral, isosceles or scalene. Be sure to\n",
        "determine if the given lengths are actually the sides of a triangle before indicating the “type” of triangle.\n",
        "(Remember: The sum of the lengths of any two sides of a triangle must be greater than the length of the\n",
        "third side.)"
      ]
    },
    {
      "cell_type": "code",
      "metadata": {
        "id": "f67Z9cjfo4UV",
        "colab_type": "code",
        "colab": {}
      },
      "source": [
        "##################################################\n",
        "# Created by  : Geffrey Chu\t\t\t\t\t\n",
        "# Created Date: 2020-07-16 \t\t\t\t\t\n",
        "# Assignment  : Summative Assignment-1\n",
        "# Question\t\t: 1\t\n",
        "# Description : Triangle Check\t\t\t\t\n",
        "##################################################\n",
        "side = list(range(3)) \n",
        "i = 0\n",
        "while i < 3:\n",
        "  try:\n",
        "   side[i] = float (input(\"Enter a length of the triangle (\"+str (i+1)+\"): \"))\n",
        "   i = i + 1\n",
        "  except ValueError:\n",
        "    print(\"Please enter an integer\")\n",
        "  else:\n",
        "    continue\n",
        "if side[0] < 0 or side[1] < 0 or side[2] < 0 :\n",
        "  print(\"\\nSide lengths must be greater than 0\")\n",
        "if side[0] + side[1] < side[2] or side[1] + side[2] < side[0] or side[0] + side[2] < side[1] :\n",
        "  print(\"\\nThe lengths entered does not form a triangle\")\n",
        "else:\n",
        "  if side[0] != side[1] and side[0] != side[2] and side[1] != side[2] :\n",
        "    print(\"\\nYou entered a scalene triangle\\nThere are no equal side lengths\\nThere are no equal angles\")\n",
        "  elif side[0] == side[1] and side[1] == side[2] and side[2] == side[0] :\n",
        "    print(\"\\nYou entered an equilateral triangle\\nThree sides are equal\\nThree angles are equal, always 60°\")\n",
        "  else:\n",
        "    print(\"\\nYou entered an isosceles triangle\\nTwo sides are equal\\nTwo angles are equal\")\n"
      ],
      "execution_count": null,
      "outputs": []
    },
    {
      "cell_type": "markdown",
      "metadata": {
        "id": "MLZAhzFaph64",
        "colab_type": "text"
      },
      "source": [
        "Question-2: Write a program that asks the user to enter an integer between 50 and 100. If the number is\n",
        "NOT within the given range, print Sorry, not following directions will cost you dearly: - (. If the\n",
        "number is within the given range, tell the user that he/she won that amount of money. Please use the logical\n",
        "operators."
      ]
    },
    {
      "cell_type": "code",
      "metadata": {
        "id": "S5gWP22kpFfw",
        "colab_type": "code",
        "colab": {}
      },
      "source": [
        "##################################################\n",
        "# Created by  : Geffrey Chu\t\t\t\t\t\n",
        "# Created Date: 2020-07-16 \t\t\t\t\t\n",
        "# Assignment  : Summative Assignment-1\t\n",
        "# Question\t\t: 2\t\t\n",
        "# Description : Free Money\t\n",
        "##################################################\n",
        "validnum = list (range(50, 101))\n",
        "error_message = \"Sorry, not following directions will cost you dearly :-(\"\n",
        "try:\n",
        " x = int (input(\"Enter an integer between 50-100: \"))\n",
        "except ValueError:\n",
        "  print(error_message, \"\\nInteger only, no decimal or letters\")\n",
        "else: \n",
        "  if x not in validnum :\n",
        "   print(error_message)\n",
        "  else:\n",
        "    print(\"You win $\"+ str (x))\n"
      ],
      "execution_count": null,
      "outputs": []
    },
    {
      "cell_type": "markdown",
      "metadata": {
        "id": "liHtHkfKpk_v",
        "colab_type": "text"
      },
      "source": [
        "Question-3: Print the message:\n",
        "\n",
        "This program may contain a virus. Do you wish to continue (y/n)?\n",
        "If the user answers y or Y, print You are a gambler!\n",
        "If the user enters n or N, print Smart choice!\n",
        "If the user enters any other letter, print That was not a Y or N. Do you hear coughing?”"
      ]
    },
    {
      "cell_type": "code",
      "metadata": {
        "id": "TDc4P5BIpL05",
        "colab_type": "code",
        "colab": {}
      },
      "source": [
        "##################################################\n",
        "# Created by  : Geffrey Chu\t\t\t\t\t\n",
        "# Created Date: 2020-07-16 \t\t\t\t\t\n",
        "# Assignment  : Summative Assignment-1\t\n",
        "# Question\t\t: 3\t\t\n",
        "# Description : Virus Warning\t\t\t\n",
        "##################################################\n",
        "\n",
        "x = (input(\"This program may contain a virus. Do you wish to continue (y/n)?: \"))\n",
        "x = x.lower()\n",
        "if x == \"y\" or x == \"yes\":\n",
        "  print(\"You are a gambler!\")\n",
        "elif x == \"n\" or x == \"no\":\n",
        "  print(\"Smart choice!\")\n",
        "else:\n",
        "  print(\"That was not a [y] or [n]. Do you hear coughing?\")\n",
        "\n"
      ],
      "execution_count": null,
      "outputs": []
    },
    {
      "cell_type": "markdown",
      "metadata": {
        "id": "F5SSxADEpoOf",
        "colab_type": "text"
      },
      "source": [
        "Question-4: Write a program which will tell a student whether (s)he is eligible for the honor roll. A student\n",
        "is eligible if (s)he has at least a 90 average, is taking 4 or more courses, and has had no discipline\n",
        "infractions. Have your program ask the student for his/her average, the number of courses, and whether\n",
        "(s)he has any discipline infractions. Print an appropriate message indicating whether the student is eligible\n",
        "for the honor roll. Be friendly!"
      ]
    },
    {
      "cell_type": "code",
      "metadata": {
        "id": "DB4e9Gb9pQ5p",
        "colab_type": "code",
        "colab": {}
      },
      "source": [
        "##################################################\n",
        "# Created by  : Geffrey Chu\t\t\t\t\t\n",
        "# Created Date: 2020-07-16 \t\t\t\t\t\n",
        "# Assignment  : Summative Assignment-1\t\n",
        "# Question\t\t: 4\t\t\n",
        "# Description : Honor Roll Checker\t\t\n",
        "##################################################\n",
        "\n",
        "while True:\n",
        "  try: \n",
        "    average = float (input(\"What is your average mark?: \"))\n",
        "  except ValueError:\n",
        "    print(\"Please enter a number\")\n",
        "  else:\n",
        "    break\n",
        "fourormore = \"\"\n",
        "while fourormore != \"y\" and fourormore != \"n\" :\n",
        "  fourormore = (input(\"Have you taken 4 or more courses? [y/n]: \"))\n",
        "  fourormore = fourormore.lower()\n",
        "  if fourormore != \"y\" and fourormore != \"n\":\n",
        "    print(\"Please enter [y] or [n] only\")\n",
        "  else:\n",
        "    break\n",
        "disin = \"\"\n",
        "while disin != \"y\" and disin != \"n\":\n",
        "  disin = (input(\"Do you have any discipline infractions? [y/n]: \"))\n",
        "  disin = disin.lower()\n",
        "  if disin != \"y\" and disin != \"n\":\n",
        "    print(\"Please enter [y] or [n] only\")\n",
        "  else:\n",
        "    break\n",
        "if fourormore == \"y\" and average >=90 and disin == \"n\":\n",
        "  print(\"\\nCongratulations, you are eligible for the honor roll!\")\n",
        "else:\n",
        "  print(\"\\nSorry you are not eligible for the honor roll\")\n"
      ],
      "execution_count": null,
      "outputs": []
    },
    {
      "cell_type": "markdown",
      "metadata": {
        "id": "halD4GbepsT_",
        "colab_type": "text"
      },
      "source": [
        "Question-5: Heath and Frankie, as a team, are entering the last phase in a dirt bike drone hunting\n",
        "competition. The boys can win the competition in any one of three ways: they can capture at least 6 flags\n",
        "in total, or they can capture all 4 of the blue flags, or they can capture at least 2 red and 2 white flags.\n",
        "Write a program which will ask the judge to enter the team names and the number of each of the three\n",
        "colored flags (red, white, or blue) captured by this team. Print a statement stating whether this team has\n",
        "won the competition."
      ]
    },
    {
      "cell_type": "code",
      "metadata": {
        "id": "FAaGMTZdpUJ-",
        "colab_type": "code",
        "colab": {}
      },
      "source": [
        "##################################################\n",
        "# Created by  : Geffrey Chu\t\t\t\t\t\n",
        "# Created Date: 2020-07-16 \t\t\t\t\t\n",
        "# Assignment  : Summative Assignment-1\t\t\n",
        "# Question\t\t: 5\t\n",
        "# Description : Winner Check for Competition\t\t\t\n",
        "##################################################\n",
        "\n",
        "name = (input(\"Enter team name: \"))\n",
        "while True:\n",
        "  try:\n",
        "    b = int (input(\"How many blue flags captured? :  \"))\n",
        "  except ValueError:\n",
        "    print(\"Please enter a number\")\n",
        "  else:\n",
        "    if b > 4 :\n",
        "      print(\"Please try again, there are only a maximum of 4 blue flags\")\n",
        "    else:\n",
        "      break\n",
        "while True:\n",
        "  try:\n",
        "    r = int (input(\"How many red flags captured?  :  \"))\n",
        "  except ValueError:\n",
        "    print(\"Please enter a number\")\n",
        "  else:\n",
        "    break\n",
        "while True:\n",
        "  try:\n",
        "    w = int (input(\"How many white flags captured?  :  \"))\n",
        "  except ValueError:\n",
        "    print(\"Please enter a number\")\n",
        "  else:\n",
        "    break\n",
        "if b + r + w > 5 :\n",
        "  print(\"Team\",name+\", you win!\")\n",
        "elif b == 4 :\n",
        "  print(\"Team\",name+\",you win!\")\n",
        "elif r == 2 and w == 2 :\n",
        "  print(\"Team\",name+\",you win!\")\n",
        "else:\n",
        "  print(\"Team\",name+\", you did not win\")\n"
      ],
      "execution_count": null,
      "outputs": []
    },
    {
      "cell_type": "markdown",
      "metadata": {
        "id": "dEOd2KhEpvOH",
        "colab_type": "text"
      },
      "source": [
        "Question-6: Costco supermarket awards coupons depending on how much a customer spends on groceries. For\n",
        "example, if you spend $50, you will get a coupon worth eight percent of that amount. The following table shows\n",
        "the percent used to calculate the coupon awarded for different amounts spent. Write a program that calculates\n",
        "and prints the value of the coupon a person can receive based on groceries purchased."
      ]
    },
    {
      "cell_type": "code",
      "metadata": {
        "id": "ztw16zE7pWpV",
        "colab_type": "code",
        "colab": {}
      },
      "source": [
        "##################################################\n",
        "# Created by  : Geffrey Chu\t\t\t\t\t\n",
        "# Created Date: 2020-07-16 \t\t\t\t\t\n",
        "# Assignment  : Summative Assignment-1\t\n",
        "# Question\t\t: 6\t\t\n",
        "# Description : Costco discount program\t\t\t\n",
        "##################################################\n",
        "while True:\n",
        "  try:\n",
        "    x = float (input(\"Please enter the cost of your groceries: \"))\n",
        "  except ValueError:\n",
        "    print(\"Please enter a number\")\n",
        "  else:\n",
        "    break\n",
        "if x > 210 :\n",
        "  print(\"You win a discount coupon of $\"+ str (round((x*0.14), 2)))\n",
        "  print(\"Coupon is 14% of your purchase\")\n",
        "elif x > 150 :\n",
        "  print(\"You win a discount coupon of $\"+ str (round((x*0.12), 2)))\n",
        "  print(\"Coupon is 12% of your purchase\")\n",
        "elif x > 60 :\n",
        "  print(\"You win a discount coupon of $\"+ str (round((x*0.1), 2)))\n",
        "  print(\"Coupon is 10% of your purchase\")\n",
        "elif x >= 10 :\n",
        "  print(\"You win a discount coupon of $\"+ str (round((x*0.08), 2)))\n",
        "  print(\"Coupon is 8% of your purchase\")\n",
        "else:\n",
        "  print(\"You did not spend enough money to get a coupon\")\n",
        "\n"
      ],
      "execution_count": null,
      "outputs": []
    }
  ]
}